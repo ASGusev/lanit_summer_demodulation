{
 "cells": [
  {
   "cell_type": "code",
   "execution_count": 1,
   "metadata": {},
   "outputs": [],
   "source": [
    "from pathlib import Path\n",
    "\n",
    "import numpy as np\n",
    "import tensorflow as tf\n",
    "from tensorflow import keras\n",
    "\n",
    "import modulation\n",
    "import noise\n",
    "from demodulation import models, data_preprocessing"
   ]
  },
  {
   "cell_type": "code",
   "execution_count": 2,
   "metadata": {},
   "outputs": [],
   "source": [
    "modulator = modulation.Modulator()"
   ]
  },
  {
   "cell_type": "code",
   "execution_count": 3,
   "metadata": {},
   "outputs": [],
   "source": [
    "N_SAMPLES_TRAIN = 25\n",
    "N_SAMPLES_VAL = 10\n",
    "SAMPLE_LEN = 50\n",
    "TRAIN_SNR = -10\n",
    "TRAIN_SNR_RANGE = -12, 0\n",
    "\n",
    "def add_noise(wave):\n",
    "#     snr = np.random.uniform(*TRAIN_SNR_RANGE)\n",
    "#     return noise.add_white_gaussian_noise(wave, snr)\n",
    "    return noise.add_white_gaussian_noise(wave, TRAIN_SNR)\n",
    "\n",
    "train_gen = data_preprocessing.get_generator(N_SAMPLES_TRAIN, SAMPLE_LEN, modulator, add_noise)\n",
    "train_ds = tf.data.Dataset.from_generator(\n",
    "    train_gen, \n",
    "    ((tf.float32, tf.float32), tf.float32), \n",
    "    (((None, 1), (None, 257, 1)), (None, 16))\n",
    ").batch(1)\n",
    "val_data = data_preprocessing.generate_signal(N_SAMPLES_VAL, SAMPLE_LEN, modulator, add_noise)\n",
    "val_ds = tf.data.Dataset.from_tensor_slices(val_data).batch(2)"
   ]
  },
  {
   "cell_type": "code",
   "execution_count": 4,
   "metadata": {},
   "outputs": [],
   "source": [
    "model = models.make_common_model()"
   ]
  },
  {
   "cell_type": "code",
   "execution_count": 5,
   "metadata": {
    "scrolled": true
   },
   "outputs": [
    {
     "name": "stdout",
     "output_type": "stream",
     "text": [
      "Epoch 1/100\n",
      "25/25 [==============================] - 47s 2s/step - loss: 2.7120 - acc: 0.1224 - val_loss: 2.4281 - val_acc: 0.2360\n",
      "Epoch 2/100\n",
      "25/25 [==============================] - 41s 2s/step - loss: 1.8296 - acc: 0.4184 - val_loss: 1.4254 - val_acc: 0.5700\n",
      "Epoch 3/100\n",
      "25/25 [==============================] - 40s 2s/step - loss: 1.1497 - acc: 0.6288 - val_loss: 1.0935 - val_acc: 0.6440\n",
      "Epoch 4/100\n",
      "25/25 [==============================] - 38s 2s/step - loss: 0.9001 - acc: 0.7120 - val_loss: 0.8672 - val_acc: 0.7080\n",
      "Epoch 5/100\n",
      "25/25 [==============================] - 38s 2s/step - loss: 0.7091 - acc: 0.7624 - val_loss: 0.7995 - val_acc: 0.7400\n",
      "Epoch 6/100\n",
      "25/25 [==============================] - 40s 2s/step - loss: 0.6129 - acc: 0.7936 - val_loss: 0.7238 - val_acc: 0.7720\n",
      "Epoch 7/100\n",
      "25/25 [==============================] - 40s 2s/step - loss: 0.6308 - acc: 0.7976 - val_loss: 0.6683 - val_acc: 0.7800\n",
      "Epoch 8/100\n",
      "25/25 [==============================] - 38s 2s/step - loss: 0.6520 - acc: 0.7840 - val_loss: 0.6443 - val_acc: 0.7960\n",
      "Epoch 9/100\n",
      "25/25 [==============================] - 39s 2s/step - loss: 0.5159 - acc: 0.8328 - val_loss: 0.6201 - val_acc: 0.8000\n",
      "Epoch 10/100\n",
      "25/25 [==============================] - 38s 2s/step - loss: 0.5109 - acc: 0.8288 - val_loss: 0.6768 - val_acc: 0.7900\n",
      "Epoch 11/100\n",
      "25/25 [==============================] - 40s 2s/step - loss: 0.4692 - acc: 0.8456 - val_loss: 0.6233 - val_acc: 0.8200\n",
      "Epoch 12/100\n",
      "25/25 [==============================] - 40s 2s/step - loss: 0.5359 - acc: 0.8232 - val_loss: 0.6251 - val_acc: 0.8060\n",
      "Epoch 13/100\n",
      "25/25 [==============================] - 40s 2s/step - loss: 0.4835 - acc: 0.8464 - val_loss: 0.5914 - val_acc: 0.8280\n",
      "Epoch 14/100\n",
      "25/25 [==============================] - 42s 2s/step - loss: 0.4543 - acc: 0.8488 - val_loss: 0.5784 - val_acc: 0.8280\n",
      "Epoch 15/100\n",
      "25/25 [==============================] - 41s 2s/step - loss: 0.4818 - acc: 0.8560 - val_loss: 0.5893 - val_acc: 0.8180\n",
      "Epoch 16/100\n",
      "25/25 [==============================] - 41s 2s/step - loss: 0.4759 - acc: 0.8480 - val_loss: 0.5949 - val_acc: 0.8340\n",
      "Epoch 17/100\n",
      "25/25 [==============================] - 40s 2s/step - loss: 0.4190 - acc: 0.8696 - val_loss: 0.5733 - val_acc: 0.8200\n",
      "Epoch 18/100\n",
      "25/25 [==============================] - 40s 2s/step - loss: 0.4121 - acc: 0.8632 - val_loss: 0.5650 - val_acc: 0.8360\n",
      "Epoch 19/100\n",
      "25/25 [==============================] - 39s 2s/step - loss: 0.4609 - acc: 0.8576 - val_loss: 0.5520 - val_acc: 0.8220\n",
      "Epoch 20/100\n",
      "25/25 [==============================] - 39s 2s/step - loss: 0.4545 - acc: 0.8552 - val_loss: 0.5359 - val_acc: 0.8300\n",
      "Epoch 21/100\n",
      "25/25 [==============================] - 40s 2s/step - loss: 0.4103 - acc: 0.8568 - val_loss: 0.5707 - val_acc: 0.8380\n",
      "Epoch 22/100\n",
      "25/25 [==============================] - 38s 2s/step - loss: 0.4536 - acc: 0.8616 - val_loss: 0.5240 - val_acc: 0.8360\n",
      "Epoch 23/100\n",
      "25/25 [==============================] - 43s 2s/step - loss: 0.4204 - acc: 0.8560 - val_loss: 0.4875 - val_acc: 0.8400\n",
      "Epoch 24/100\n",
      "25/25 [==============================] - 40s 2s/step - loss: 0.4274 - acc: 0.8552 - val_loss: 0.5128 - val_acc: 0.8300\n",
      "Epoch 25/100\n",
      "25/25 [==============================] - 37s 1s/step - loss: 0.4478 - acc: 0.8528 - val_loss: 0.5043 - val_acc: 0.8420\n",
      "Epoch 26/100\n",
      "25/25 [==============================] - 38s 2s/step - loss: 0.4227 - acc: 0.8696 - val_loss: 0.4944 - val_acc: 0.8440\n",
      "Epoch 27/100\n",
      "25/25 [==============================] - 39s 2s/step - loss: 0.4027 - acc: 0.8744 - val_loss: 0.4919 - val_acc: 0.8280\n",
      "Epoch 28/100\n",
      "25/25 [==============================] - 39s 2s/step - loss: 0.4372 - acc: 0.8512 - val_loss: 0.4806 - val_acc: 0.8480\n",
      "Epoch 29/100\n",
      "25/25 [==============================] - 39s 2s/step - loss: 0.4447 - acc: 0.8512 - val_loss: 0.4742 - val_acc: 0.8400\n",
      "Epoch 30/100\n",
      "25/25 [==============================] - 39s 2s/step - loss: 0.3592 - acc: 0.8744 - val_loss: 0.4815 - val_acc: 0.8360\n",
      "Epoch 31/100\n",
      "25/25 [==============================] - 39s 2s/step - loss: 0.3669 - acc: 0.8832 - val_loss: 0.4871 - val_acc: 0.8400\n",
      "Epoch 32/100\n",
      "25/25 [==============================] - 39s 2s/step - loss: 0.4665 - acc: 0.8480 - val_loss: 0.4777 - val_acc: 0.8440\n",
      "Epoch 33/100\n",
      "25/25 [==============================] - 38s 2s/step - loss: 0.4099 - acc: 0.8672 - val_loss: 0.4621 - val_acc: 0.8540\n",
      "Epoch 34/100\n",
      "25/25 [==============================] - 37s 1s/step - loss: 0.4144 - acc: 0.8600 - val_loss: 0.4644 - val_acc: 0.8400\n",
      "Epoch 35/100\n",
      "25/25 [==============================] - 38s 2s/step - loss: 0.4077 - acc: 0.8656 - val_loss: 0.4831 - val_acc: 0.8440\n",
      "Epoch 36/100\n",
      "25/25 [==============================] - 39s 2s/step - loss: 0.3545 - acc: 0.8904 - val_loss: 0.4665 - val_acc: 0.8380\n",
      "Epoch 37/100\n",
      "25/25 [==============================] - 38s 2s/step - loss: 0.3740 - acc: 0.8808 - val_loss: 0.4676 - val_acc: 0.8480\n",
      "Epoch 38/100\n",
      "25/25 [==============================] - 38s 2s/step - loss: 0.4103 - acc: 0.8624 - val_loss: 0.4636 - val_acc: 0.8420\n",
      "Epoch 39/100\n",
      "25/25 [==============================] - 39s 2s/step - loss: 0.4004 - acc: 0.8736 - val_loss: 0.4625 - val_acc: 0.8440\n",
      "Epoch 40/100\n",
      "25/25 [==============================] - 40s 2s/step - loss: 0.4007 - acc: 0.8672 - val_loss: 0.4710 - val_acc: 0.8400\n",
      "Epoch 41/100\n",
      "25/25 [==============================] - 41s 2s/step - loss: 0.3960 - acc: 0.8680 - val_loss: 0.4631 - val_acc: 0.8440\n",
      "Epoch 42/100\n",
      "25/25 [==============================] - 41s 2s/step - loss: 0.4009 - acc: 0.8696 - val_loss: 0.4569 - val_acc: 0.8540\n",
      "Epoch 43/100\n",
      "25/25 [==============================] - 40s 2s/step - loss: 0.3631 - acc: 0.8816 - val_loss: 0.4561 - val_acc: 0.8400\n",
      "Epoch 44/100\n",
      "25/25 [==============================] - 39s 2s/step - loss: 0.3779 - acc: 0.8784 - val_loss: 0.4556 - val_acc: 0.8380\n",
      "Epoch 45/100\n",
      "25/25 [==============================] - 40s 2s/step - loss: 0.4100 - acc: 0.8616 - val_loss: 0.4484 - val_acc: 0.8480\n",
      "Epoch 46/100\n",
      "25/25 [==============================] - 43s 2s/step - loss: 0.3905 - acc: 0.8744 - val_loss: 0.4505 - val_acc: 0.8560\n",
      "Epoch 47/100\n",
      "25/25 [==============================] - 40s 2s/step - loss: 0.3599 - acc: 0.8776 - val_loss: 0.4577 - val_acc: 0.8580\n",
      "Epoch 48/100\n",
      "25/25 [==============================] - 37s 1s/step - loss: 0.4196 - acc: 0.8744 - val_loss: 0.4543 - val_acc: 0.8560\n",
      "Epoch 49/100\n",
      "25/25 [==============================] - 39s 2s/step - loss: 0.3385 - acc: 0.8896 - val_loss: 0.4516 - val_acc: 0.8520\n",
      "Epoch 50/100\n",
      "25/25 [==============================] - 38s 2s/step - loss: 0.4137 - acc: 0.8752 - val_loss: 0.4511 - val_acc: 0.8540\n",
      "Epoch 51/100\n",
      "25/25 [==============================] - 38s 2s/step - loss: 0.3831 - acc: 0.8688 - val_loss: 0.4530 - val_acc: 0.8540\n",
      "Epoch 52/100\n",
      "25/25 [==============================] - 38s 2s/step - loss: 0.4087 - acc: 0.8656 - val_loss: 0.4517 - val_acc: 0.8560\n",
      "Epoch 53/100\n",
      "25/25 [==============================] - 38s 2s/step - loss: 0.3713 - acc: 0.8736 - val_loss: 0.4525 - val_acc: 0.8560\n",
      "Epoch 54/100\n",
      "25/25 [==============================] - 37s 1s/step - loss: 0.3585 - acc: 0.8840 - val_loss: 0.4541 - val_acc: 0.8540\n",
      "Epoch 55/100\n",
      "25/25 [==============================] - 37s 1s/step - loss: 0.3614 - acc: 0.8776 - val_loss: 0.4543 - val_acc: 0.8620\n",
      "Epoch 56/100\n",
      "25/25 [==============================] - 37s 1s/step - loss: 0.3733 - acc: 0.8880 - val_loss: 0.4560 - val_acc: 0.8560\n",
      "Epoch 57/100\n",
      "25/25 [==============================] - 37s 1s/step - loss: 0.3700 - acc: 0.8752 - val_loss: 0.4545 - val_acc: 0.8560\n",
      "Epoch 58/100\n",
      "25/25 [==============================] - 38s 2s/step - loss: 0.3890 - acc: 0.8800 - val_loss: 0.4518 - val_acc: 0.8560\n",
      "Epoch 59/100\n",
      "25/25 [==============================] - 38s 2s/step - loss: 0.3968 - acc: 0.8664 - val_loss: 0.4504 - val_acc: 0.8560\n",
      "Epoch 60/100\n",
      "25/25 [==============================] - 38s 2s/step - loss: 0.3388 - acc: 0.8872 - val_loss: 0.4480 - val_acc: 0.8600\n",
      "Epoch 61/100\n",
      "25/25 [==============================] - 38s 2s/step - loss: 0.3728 - acc: 0.8736 - val_loss: 0.4469 - val_acc: 0.8660\n",
      "Epoch 62/100\n",
      "25/25 [==============================] - 38s 2s/step - loss: 0.3617 - acc: 0.8760 - val_loss: 0.4468 - val_acc: 0.8660\n",
      "Epoch 63/100\n"
     ]
    },
    {
     "name": "stdout",
     "output_type": "stream",
     "text": [
      "25/25 [==============================] - 39s 2s/step - loss: 0.3675 - acc: 0.8832 - val_loss: 0.4482 - val_acc: 0.8660\n",
      "Epoch 64/100\n",
      "25/25 [==============================] - 38s 2s/step - loss: 0.3292 - acc: 0.8928 - val_loss: 0.4472 - val_acc: 0.8620\n",
      "Epoch 65/100\n",
      "25/25 [==============================] - 38s 2s/step - loss: 0.3983 - acc: 0.8792 - val_loss: 0.4457 - val_acc: 0.8600\n",
      "Epoch 66/100\n",
      "25/25 [==============================] - 38s 2s/step - loss: 0.3786 - acc: 0.8768 - val_loss: 0.4447 - val_acc: 0.8620\n",
      "Epoch 67/100\n",
      "25/25 [==============================] - 38s 2s/step - loss: 0.3902 - acc: 0.8808 - val_loss: 0.4437 - val_acc: 0.8640\n",
      "Epoch 68/100\n",
      "25/25 [==============================] - 39s 2s/step - loss: 0.3416 - acc: 0.8904 - val_loss: 0.4441 - val_acc: 0.8680\n",
      "Epoch 69/100\n",
      "25/25 [==============================] - 39s 2s/step - loss: 0.3951 - acc: 0.8616 - val_loss: 0.4434 - val_acc: 0.8680\n",
      "Epoch 70/100\n",
      "25/25 [==============================] - 38s 2s/step - loss: 0.3712 - acc: 0.8800 - val_loss: 0.4436 - val_acc: 0.8660\n",
      "Epoch 71/100\n",
      "25/25 [==============================] - 38s 2s/step - loss: 0.3773 - acc: 0.8800 - val_loss: 0.4432 - val_acc: 0.8640\n",
      "Epoch 72/100\n",
      "25/25 [==============================] - 38s 2s/step - loss: 0.4048 - acc: 0.8712 - val_loss: 0.4414 - val_acc: 0.8680\n",
      "Epoch 73/100\n",
      "25/25 [==============================] - 38s 2s/step - loss: 0.3823 - acc: 0.8784 - val_loss: 0.4413 - val_acc: 0.8640\n",
      "Epoch 74/100\n",
      "25/25 [==============================] - 38s 2s/step - loss: 0.3823 - acc: 0.8784 - val_loss: 0.4405 - val_acc: 0.8640\n",
      "Epoch 75/100\n",
      "25/25 [==============================] - 38s 2s/step - loss: 0.3808 - acc: 0.8744 - val_loss: 0.4401 - val_acc: 0.8660\n",
      "Epoch 76/100\n",
      "25/25 [==============================] - 38s 2s/step - loss: 0.3787 - acc: 0.8736 - val_loss: 0.4395 - val_acc: 0.8660\n",
      "Epoch 77/100\n",
      "25/25 [==============================] - 38s 2s/step - loss: 0.4359 - acc: 0.8640 - val_loss: 0.4396 - val_acc: 0.8640\n",
      "Epoch 78/100\n",
      "25/25 [==============================] - 38s 2s/step - loss: 0.4231 - acc: 0.8632 - val_loss: 0.4387 - val_acc: 0.8640\n",
      "Epoch 79/100\n",
      "25/25 [==============================] - 38s 2s/step - loss: 0.3564 - acc: 0.8856 - val_loss: 0.4388 - val_acc: 0.8640\n",
      "Epoch 80/100\n",
      "25/25 [==============================] - 38s 2s/step - loss: 0.3744 - acc: 0.8736 - val_loss: 0.4388 - val_acc: 0.8640\n",
      "Epoch 81/100\n",
      "25/25 [==============================] - 39s 2s/step - loss: 0.3779 - acc: 0.8712 - val_loss: 0.4394 - val_acc: 0.8620\n",
      "Epoch 82/100\n",
      "25/25 [==============================] - 38s 2s/step - loss: 0.3706 - acc: 0.8768 - val_loss: 0.4391 - val_acc: 0.8620\n",
      "Epoch 83/100\n",
      "25/25 [==============================] - 38s 2s/step - loss: 0.3634 - acc: 0.8928 - val_loss: 0.4395 - val_acc: 0.8620\n",
      "Epoch 84/100\n",
      "25/25 [==============================] - 39s 2s/step - loss: 0.3691 - acc: 0.8704 - val_loss: 0.4394 - val_acc: 0.8640\n",
      "Epoch 85/100\n",
      "25/25 [==============================] - 39s 2s/step - loss: 0.3010 - acc: 0.9024 - val_loss: 0.4387 - val_acc: 0.8620\n",
      "Epoch 86/100\n",
      "25/25 [==============================] - 39s 2s/step - loss: 0.3905 - acc: 0.8680 - val_loss: 0.4379 - val_acc: 0.8640\n",
      "Epoch 87/100\n",
      "25/25 [==============================] - 38s 2s/step - loss: 0.3639 - acc: 0.8824 - val_loss: 0.4379 - val_acc: 0.8680\n",
      "Epoch 88/100\n",
      "25/25 [==============================] - 38s 2s/step - loss: 0.3383 - acc: 0.8888 - val_loss: 0.4385 - val_acc: 0.8640\n",
      "Epoch 89/100\n",
      "25/25 [==============================] - 38s 2s/step - loss: 0.4281 - acc: 0.8608 - val_loss: 0.4383 - val_acc: 0.8680\n",
      "Epoch 90/100\n",
      "25/25 [==============================] - 38s 2s/step - loss: 0.3296 - acc: 0.8976 - val_loss: 0.4381 - val_acc: 0.8640\n",
      "Epoch 91/100\n",
      "25/25 [==============================] - 38s 2s/step - loss: 0.4070 - acc: 0.8600 - val_loss: 0.4388 - val_acc: 0.8620\n",
      "Epoch 92/100\n",
      "25/25 [==============================] - 38s 2s/step - loss: 0.3645 - acc: 0.8776 - val_loss: 0.4394 - val_acc: 0.8640\n",
      "Epoch 93/100\n",
      "25/25 [==============================] - 38s 2s/step - loss: 0.3696 - acc: 0.8856 - val_loss: 0.4396 - val_acc: 0.8640\n",
      "Epoch 94/100\n",
      "25/25 [==============================] - 38s 2s/step - loss: 0.3582 - acc: 0.8888 - val_loss: 0.4401 - val_acc: 0.8640\n",
      "Epoch 95/100\n",
      "25/25 [==============================] - 37s 1s/step - loss: 0.3871 - acc: 0.8680 - val_loss: 0.4398 - val_acc: 0.8640\n",
      "Epoch 96/100\n",
      "25/25 [==============================] - 37s 1s/step - loss: 0.4188 - acc: 0.8584 - val_loss: 0.4398 - val_acc: 0.8640\n",
      "Epoch 97/100\n",
      "25/25 [==============================] - 38s 2s/step - loss: 0.3613 - acc: 0.8864 - val_loss: 0.4399 - val_acc: 0.8640\n",
      "Epoch 98/100\n",
      "25/25 [==============================] - 38s 2s/step - loss: 0.3903 - acc: 0.8792 - val_loss: 0.4397 - val_acc: 0.8640\n",
      "Epoch 99/100\n",
      "25/25 [==============================] - 38s 2s/step - loss: 0.3891 - acc: 0.8768 - val_loss: 0.4397 - val_acc: 0.8640\n",
      "Epoch 100/100\n",
      "25/25 [==============================] - 38s 2s/step - loss: 0.4044 - acc: 0.8696 - val_loss: 0.4396 - val_acc: 0.8640\n"
     ]
    },
    {
     "data": {
      "text/plain": [
       "<tensorflow.python.keras.callbacks.History at 0x7fc464761510>"
      ]
     },
     "execution_count": 5,
     "metadata": {},
     "output_type": "execute_result"
    }
   ],
   "source": [
    "opt = tf.keras.optimizers.Adam(\n",
    "    learning_rate=tf.keras.optimizers.schedules.ExponentialDecay(.001, 20 * N_SAMPLES_TRAIN, .3))\n",
    "loss_f = tf.keras.losses.CategoricalCrossentropy(from_logits=True)\n",
    "model.compile(optimizer=opt, loss=loss_f, metrics=['acc'])\n",
    "model.fit(train_ds, validation_data=val_ds, epochs=100)"
   ]
  },
  {
   "cell_type": "code",
   "execution_count": 6,
   "metadata": {},
   "outputs": [],
   "source": [
    "test_samples = data_preprocessing.load_samples_per_snr(\n",
    "    Path('test_data_-2,-4,-6,-8,-10,-12_5_50.json'))\n",
    "test_samples = data_preprocessing.add_sgs_to_samples(test_samples, modulator)\n",
    "test_samples = data_preprocessing.preprocess_samples_for_tf(test_samples, modulator)\n",
    "\n",
    "test_samples_shifted = data_preprocessing.load_samples_per_snr(\n",
    "    Path('test_data_-2,-4,-6,-8,-10,-12_sh20_5_50.json'))\n",
    "test_samples_shifted = data_preprocessing.add_sgs_to_samples(test_samples_shifted, modulator)\n",
    "test_samples_shifted = data_preprocessing.preprocess_samples_for_tf(test_samples_shifted, modulator)"
   ]
  },
  {
   "cell_type": "code",
   "execution_count": 7,
   "metadata": {},
   "outputs": [
    {
     "name": "stdout",
     "output_type": "stream",
     "text": [
      "Evaluating with SNR -2\n",
      "5/5 [==============================] - 2s 309ms/step - loss: 0.0016 - acc: 1.0000\n",
      "Evaluating with SNR -4\n",
      "5/5 [==============================] - 2s 310ms/step - loss: 0.0022 - acc: 1.0000\n",
      "Evaluating with SNR -6\n",
      "5/5 [==============================] - 2s 312ms/step - loss: 0.0045 - acc: 1.0000\n",
      "Evaluating with SNR -8\n",
      "5/5 [==============================] - 2s 303ms/step - loss: 0.0459 - acc: 0.9960\n",
      "Evaluating with SNR -10\n",
      "5/5 [==============================] - 2s 313ms/step - loss: 0.4312 - acc: 0.8720\n",
      "Evaluating with SNR -12\n",
      "5/5 [==============================] - 2s 313ms/step - loss: 1.7214 - acc: 0.6440\n"
     ]
    }
   ],
   "source": [
    "snr_test_accuracies = []\n",
    "\n",
    "for snr, samples in test_samples.items():\n",
    "    print(f'Evaluating with SNR {snr}')\n",
    "    cur_test_ds = tf.data.Dataset.from_tensor_slices(samples).batch(1)\n",
    "    loss, accuracy = model.evaluate(cur_test_ds)\n",
    "    snr_test_accuracies.append(accuracy)"
   ]
  },
  {
   "cell_type": "code",
   "execution_count": 8,
   "metadata": {},
   "outputs": [
    {
     "name": "stdout",
     "output_type": "stream",
     "text": [
      "Evaluating with SNR -2 on shifted frequency\n",
      "5/5 [==============================] - 2s 311ms/step - loss: 0.0061 - acc: 1.0000\n",
      "Evaluating with SNR -4 on shifted frequency\n",
      "5/5 [==============================] - 2s 313ms/step - loss: 0.0102 - acc: 1.0000\n",
      "Evaluating with SNR -6 on shifted frequency\n",
      "5/5 [==============================] - 2s 316ms/step - loss: 0.0187 - acc: 1.0000\n",
      "Evaluating with SNR -8 on shifted frequency\n",
      "5/5 [==============================] - 2s 305ms/step - loss: 0.1017 - acc: 0.9920\n",
      "Evaluating with SNR -10 on shifted frequency\n",
      "5/5 [==============================] - 2s 314ms/step - loss: 0.7560 - acc: 0.7400\n",
      "Evaluating with SNR -12 on shifted frequency\n",
      "5/5 [==============================] - 2s 311ms/step - loss: 3.0440 - acc: 0.4600\n"
     ]
    }
   ],
   "source": [
    "snr_test_shifted_accuracies = []\n",
    "\n",
    "for snr, samples in test_samples_shifted.items():\n",
    "    print(f'Evaluating with SNR {snr} on shifted frequency')\n",
    "    cur_test_ds = tf.data.Dataset.from_tensor_slices(samples).batch(1)\n",
    "    loss, accuracy = model.evaluate(cur_test_ds)\n",
    "    snr_test_shifted_accuracies.append(accuracy)"
   ]
  },
  {
   "cell_type": "code",
   "execution_count": 9,
   "metadata": {},
   "outputs": [
    {
     "data": {
      "image/png": "[encoded data removed]",
      "text/plain": [
       "<Figure size 864x576 with 1 Axes>"
      ]
     },
     "metadata": {
      "needs_background": "light"
     },
     "output_type": "display_data"
    }
   ],
   "source": [
    "import matplotlib.pyplot as plt\n",
    "\n",
    "\n",
    "plt.figure(figsize=(12, 8))\n",
    "plt.plot(list(test_samples.keys()), snr_test_accuracies, label='Correct frequencies')\n",
    "plt.plot(list(test_samples_shifted.keys()), snr_test_shifted_accuracies, label='Shifted frequencies')\n",
    "plt.tick_params(axis='both', labelsize=14)\n",
    "plt.xlabel('SNR', fontsize=14)\n",
    "plt.ylabel('Accuracy', fontsize=14)\n",
    "plt.legend(fontsize=14)\n",
    "plt.show()"
   ]
  },
  {
   "cell_type": "code",
   "execution_count": 10,
   "metadata": {},
   "outputs": [
    {
     "name": "stdout",
     "output_type": "stream",
     "text": [
      "WARNING:tensorflow:From /home/andy/anaconda3/lib/python3.7/site-packages/tensorflow/python/ops/resource_variable_ops.py:1817: calling BaseResourceVariable.__init__ (from tensorflow.python.ops.resource_variable_ops) with constraint is deprecated and will be removed in a future version.\n",
      "Instructions for updating:\n",
      "If using Keras pass *_constraint arguments to layers.\n",
      "INFO:tensorflow:Assets written to: params/2020_08_07_leaky_-10/assets\n"
     ]
    }
   ],
   "source": [
    "model.save('params/2020_08_07_leaky_-10')"
   ]
  }
 ],
 "metadata": {
  "kernelspec": {
   "display_name": "Python 3",
   "language": "python",
   "name": "python3"
  },
  "language_info": {
   "codemirror_mode": {
    "name": "ipython",
    "version": 3
   },
   "file_extension": ".py",
   "mimetype": "text/x-python",
   "name": "python",
   "nbconvert_exporter": "python",
   "pygments_lexer": "ipython3",
   "version": "3.7.6"
  }
 },
 "nbformat": 4,
 "nbformat_minor": 4
}
